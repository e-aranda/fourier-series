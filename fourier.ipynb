{
 "cells": [
  {
   "cell_type": "markdown",
   "metadata": {},
   "source": [
    "<a href=\"https://colab.research.google.com/github/e-aranda/fourier-series/blob/main/fourier.ipynb\" target=\"_blank\"><img src=\"https://colab.research.google.com/assets/colab-badge.svg\"></a>"
   ]
  },
  {
   "cell_type": "code",
   "execution_count": 1,
   "metadata": {},
   "outputs": [
    {
     "data": {
      "application/vnd.jupyter.widget-view+json": {
       "model_id": "be822f18a5494c99be3861af08ed90c0",
       "version_major": 2,
       "version_minor": 0
      },
      "text/plain": [
       "interactive(children=(RadioButtons(description='serie', options=('Fourier', 'Seno', 'Coseno'), value='Fourier'…"
      ]
     },
     "metadata": {},
     "output_type": "display_data"
    },
    {
     "data": {
      "text/plain": [
       "<function __main__.main(serie, funcion, Num, L)>"
      ]
     },
     "execution_count": 1,
     "metadata": {},
     "output_type": "execute_result"
    }
   ],
   "source": [
    "## Cálculo de la serie de Fourier en senos y cosenos de una función dada\n",
    "\n",
    "# Jupyter Specifics\n",
    "import numpy as np\n",
    "import matplotlib.pyplot as plt\n",
    "\n",
    "from IPython.display import HTML\n",
    "from ipywidgets.widgets import interact, IntSlider, RadioButtons, Layout, interact_manual, FloatSlider\n",
    "\n",
    "%matplotlib inline\n",
    "\n",
    "style = {'description_width': '150px'}\n",
    "slider_layout = Layout(width='99%')\n",
    "\n",
    "from sympy import *\n",
    "from sympy.parsing.sympy_parser import parse_expr\n",
    "\n",
    "init_printing()\n",
    "\n",
    "x = symbols('x')\n",
    "n = symbols('n', integer = True, positive=True)\n",
    "m = symbols('n', integer = True, nonnegative = True)\n",
    "\n",
    "def main(serie,funcion,Num,L):\n",
    "    try:\n",
    "        f = parse_expr(funcion)\n",
    "    except:\n",
    "        funcion = \"0\"\n",
    "        f = parse_expr(funcion)\n",
    "    if serie == \"Fourier\":\n",
    "        exti = -L\n",
    "        coef = Integer(1)\n",
    "    else:\n",
    "        exti = 0\n",
    "        coef = Integer(2)\n",
    "    bn = coef/L*integrate(f*sin(n*pi*x/L),(x,exti,L))\n",
    "    an = coef/L*integrate(f*cos(n*pi*x/L),(x,exti,L))\n",
    "    a0 = coef/L*integrate(f,(x,exti,L))\n",
    "\n",
    "    XX = np.linspace(exti,L,100)\n",
    "    YY = np.zeros_like(XX)\n",
    "    for i in range(len(XX)):\n",
    "        YY[i] = N(f.subs(x,XX[i]))\n",
    "    \n",
    "    if serie == \"Seno\":\n",
    "        dib = 0\n",
    "        for i in range(1,Num+1):\n",
    "            dib += bn.subs(n,i)*sin(i*pi*x/L)\n",
    "    elif serie == \"Coseno\":\n",
    "        dib = a0/2\n",
    "        for i in range(1,Num+1):\n",
    "            dib += an.subs(n,i)*cos(i*pi*x/L)\n",
    "    else:\n",
    "        dib = a0/2\n",
    "        for i in range(1,Num+1):\n",
    "            dib += bn.subs(n,i)*sin(i*pi*x/L) + an.subs(n,i)*cos(i*pi*x/L)\n",
    "            \n",
    "    fourier = Lambda(x,dib)\n",
    "    X = np.linspace(-3*L,3*L,100)\n",
    "    Y = np.zeros_like(X)\n",
    "    for i in range(len(X)):\n",
    "        Y[i] = fourier(X[i])\n",
    "    \n",
    "    fig = plt.figure()\n",
    "    ax = fig.add_subplot()\n",
    "    \n",
    "    ax.plot(X,Y,'r')\n",
    "    ax.plot(XX,YY,'g')\n",
    "    plt.show()\n",
    "    \n",
    "    \n",
    "\n",
    "interact_manual(main,serie=RadioButtons(options=[\"Fourier\",\"Seno\",\"Coseno\"]),\n",
    "                             funcion = \"\",\n",
    "                Num = IntSlider(min=0,max=20,step=1,description='N:',value=0),\n",
    "                L = FloatSlider(min=0.5,max=5,step=0.5,description='L',value=1)\n",
    "               )\n",
    "          \n",
    "    "
   ]
  },
  {
   "cell_type": "code",
   "execution_count": null,
   "metadata": {},
   "outputs": [],
   "source": [
    "#f = Piecewise((x, x <1), (2-x, x >= 1))\n",
    "#f = Piecewise((1, x>0), (-1, x<=0))\n",
    "#f = x**3"
   ]
  },
  {
   "cell_type": "code",
   "execution_count": null,
   "metadata": {},
   "outputs": [],
   "source": []
  }
 ],
 "metadata": {
  "kernelspec": {
   "display_name": "Python 3",
   "language": "python",
   "name": "python3"
  },
  "language_info": {
   "codemirror_mode": {
    "name": "ipython",
    "version": 3
   },
   "file_extension": ".py",
   "mimetype": "text/x-python",
   "name": "python",
   "nbconvert_exporter": "python",
   "pygments_lexer": "ipython3",
   "version": "3.8.10"
  }
 },
 "nbformat": 4,
 "nbformat_minor": 4
}
