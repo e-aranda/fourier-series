{
 "cells": [
  {
   "cell_type": "markdown",
   "metadata": {},
   "source": [
    "<a href=\"https://colab.research.google.com/github/e-aranda/fourier-series/blob/main/fourier.ipynb\" target=\"_blank\"><img src=\"https://colab.research.google.com/assets/colab-badge.svg\"></a>"
   ]
  },
  {
   "cell_type": "markdown",
   "metadata": {},
   "source": [
    "## Cálculo de la serie de Fourier en senos y cosenos de una función dada"
   ]
  },
  {
   "cell_type": "code",
   "execution_count": null,
   "metadata": {},
   "outputs": [],
   "source": [
    "# Jupyter Specifics\n",
    "import numpy as np\n",
    "import matplotlib.pyplot as plt\n",
    "\n",
    "from IPython.display import HTML\n",
    "from ipywidgets.widgets import interact, IntSlider, RadioButtons, Layout\n",
    "\n",
    "%matplotlib inline\n",
    "\n",
    "style = {'description_width': '150px'}\n",
    "slider_layout = Layout(width='99%')\n",
    "\n",
    "from sympy import *\n",
    "init_printing()\n",
    "\n",
    "x = symbols('x')\n",
    "n = symbols('n', integer = True, positive=True)\n",
    "m = symbols('n', integer = True, nonnegative = True)"
   ]
  },
  {
   "cell_type": "markdown",
   "metadata": {},
   "source": [
    "Definición de la función y el intervalo\n",
    "$$f(x) = \\left\\{\\begin{array}{cl} x, & 0 \\le x<1 \\\\\n",
    "2-x, & 1\\le x \\le 2\\end{array}\\right.$$"
   ]
  },
  {
   "cell_type": "code",
   "execution_count": null,
   "metadata": {},
   "outputs": [],
   "source": [
    "L = 1\n",
    "#f = Piecewise((x, x <1), (2-x, x >= 1))\n",
    "f = Piecewise((1, x>0), (-1, x<=0))\n",
    "#f = x**3"
   ]
  },
  {
   "cell_type": "markdown",
   "metadata": {},
   "source": [
    "Calculamos la función que calcula los coeficientes y la serie"
   ]
  },
  {
   "cell_type": "code",
   "execution_count": null,
   "metadata": {},
   "outputs": [],
   "source": [
    "@interact(serie=RadioButtons(options=[\"Fourier\",\"Seno\",\"Coseno\"]),\n",
    "                             Num = IntSlider(min=0, max=20, step=1, value=0, description='N', style=style, layout=slider_layout))\n",
    "          \n",
    "def main(serie,Num):\n",
    "    if serie == \"Fourier\":\n",
    "        exti = -L\n",
    "        coef = Integer(1)\n",
    "    else:\n",
    "        exti = 0\n",
    "        coef = Integer(2)\n",
    "    bn = coef/L*integrate(f*sin(n*pi*x/L),(x,exti,L))\n",
    "    an = coef/L*integrate(f*cos(n*pi*x/L),(x,exti,L))\n",
    "    a0 = coef/L*integrate(f,(x,exti,L))\n",
    "\n",
    "    XX = np.linspace(exti,L,100)\n",
    "    YY = np.zeros_like(XX)\n",
    "    for i in range(len(XX)):\n",
    "        YY[i] = N(f.subs(x,XX[i]))\n",
    "    \n",
    "    if serie == \"Seno\":\n",
    "        dib = 0\n",
    "        for i in range(1,Num+1):\n",
    "            dib += bn.subs(n,i)*sin(i*pi*x/L)\n",
    "    elif serie == \"Coseno\":\n",
    "        dib = a0/2\n",
    "        for i in range(1,Num+1):\n",
    "            dib += an.subs(n,i)*cos(i*pi*x/L)\n",
    "    else:\n",
    "        dib = a0/2\n",
    "        for i in range(1,Num+1):\n",
    "            dib += bn.subs(n,i)*sin(i*pi*x/L) + an.subs(n,i)*cos(i*pi*x/L)\n",
    "            \n",
    "    fourier = Lambda(x,dib)\n",
    "    X = np.linspace(-L,L,100)\n",
    "    Y = np.zeros_like(X)\n",
    "    for i in range(len(X)):\n",
    "        Y[i] = fourier(X[i])\n",
    "    \n",
    "    fig = plt.figure()\n",
    "    ax = fig.add_subplot()\n",
    "    \n",
    "    ax.plot(X,Y,'r')\n",
    "    ax.plot(XX,YY,'g')\n",
    "    plt.show()"
   ]
  },
  {
   "cell_type": "code",
   "execution_count": null,
   "metadata": {},
   "outputs": [],
   "source": []
  }
 ],
 "metadata": {
  "kernelspec": {
   "display_name": "Python 3",
   "language": "python",
   "name": "python3"
  },
  "language_info": {
   "codemirror_mode": {
    "name": "ipython",
    "version": 3
   },
   "file_extension": ".py",
   "mimetype": "text/x-python",
   "name": "python",
   "nbconvert_exporter": "python",
   "pygments_lexer": "ipython3",
   "version": "3.8.5"
  }
 },
 "nbformat": 4,
 "nbformat_minor": 4
}
