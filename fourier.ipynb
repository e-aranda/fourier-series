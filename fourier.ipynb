{
 "cells": [
  {
   "cell_type": "code",
   "execution_count": 1,
   "metadata": {},
   "outputs": [],
   "source": [
    "# Jupyter Specifics\n",
    "from IPython.display import HTML\n",
    "from ipywidgets.widgets import interact, IntSlider, FloatSlider, Layout\n",
    "\n",
    "%matplotlib inline\n",
    "\n",
    "style = {'description_width': '150px'}\n",
    "slider_layout = Layout(width='99%')\n",
    "\n",
    "from sympy import *\n",
    "init_printing()"
   ]
  },
  {
   "cell_type": "code",
   "execution_count": 2,
   "metadata": {},
   "outputs": [],
   "source": [
    "x = symbols('x')\n",
    "n = symbols('n', integer = True, positive=True)\n",
    "m = symbols('n', integer = True, nonnegative = True)"
   ]
  },
  {
   "cell_type": "code",
   "execution_count": 28,
   "metadata": {},
   "outputs": [
    {
     "data": {
      "image/png": "[encoded data removed]",
      "text/plain": [
       "<Figure size 432x288 with 1 Axes>"
      ]
     },
     "metadata": {
      "needs_background": "light"
     },
     "output_type": "display_data"
    },
    {
     "data": {
      "text/plain": [
       "<sympy.plotting.plot.Plot at 0x7fa1b2b91d90>"
      ]
     },
     "execution_count": 28,
     "metadata": {},
     "output_type": "execute_result"
    }
   ],
   "source": [
    "L = 2\n",
    "f = Piecewise((x, x <1), (2-x, x >= 1))\n",
    "plot(f,(x,0,L))"
   ]
  },
  {
   "cell_type": "code",
   "execution_count": 29,
   "metadata": {},
   "outputs": [],
   "source": [
    "def main(n_sin,n_cos):\n",
    "    bn = S(2)/L*integrate(f*sin(n*pi*x/L),(x,0,L))\n",
    "    an = S(2)/L*integrate(f*cos(n*pi*x/L),(x,0,L))\n",
    "    a0 = S(1)/L*integrate(f,(x,0,L))\n",
    "    fousin = 0\n",
    "    for i in range(1,n_sin+1):\n",
    "        fousin += bn.subs(n,i)*sin(i*pi*x/L)\n",
    "    \n",
    "    foucos = a0\n",
    "    for i in range(1,n_cos+1):\n",
    "        foucos += an.subs(n,i)*cos(i*pi*x/L)\n",
    "        \n",
    "    p1 = plot(f,(x,0,L),show=False)\n",
    "    p1[0].line_color = 'green'\n",
    "    p2 = plot(fousin,(x,-L,L),show=False)\n",
    "    p2[0].line_color = 'blue'\n",
    "    p3 = plot(foucos,(x,-L,L),show=False)\n",
    "    p3[0].line_color = 'red'\n",
    "    p1.append(p2[0])\n",
    "    p1.append(p3[0])\n",
    "    p1.show()"
   ]
  },
  {
   "cell_type": "code",
   "execution_count": 30,
   "metadata": {},
   "outputs": [
    {
     "data": {
      "application/vnd.jupyter.widget-view+json": {
       "model_id": "1654ed72756c42d6b566ff6970d0737d",
       "version_major": 2,
       "version_minor": 0
      },
      "text/plain": [
       "interactive(children=(IntSlider(value=0, description='Sinus series', layout=Layout(width='99%'), max=16, style…"
      ]
     },
     "metadata": {},
     "output_type": "display_data"
    }
   ],
   "source": [
    "interact(main, n_sin=IntSlider(min=0, max=16, step=1, value=0, description='Sinus series', style=style, layout=slider_layout),\n",
    "               n_cos=IntSlider(min=0, max=16, step=1, value=0, description='Cosinus series', style=style, layout=slider_layout),\n",
    "               );\n"
   ]
  },
  {
   "cell_type": "code",
   "execution_count": null,
   "metadata": {},
   "outputs": [],
   "source": []
  }
 ],
 "metadata": {
  "kernelspec": {
   "display_name": "Python 3",
   "language": "python",
   "name": "python3"
  },
  "language_info": {
   "codemirror_mode": {
    "name": "ipython",
    "version": 3
   },
   "file_extension": ".py",
   "mimetype": "text/x-python",
   "name": "python",
   "nbconvert_exporter": "python",
   "pygments_lexer": "ipython3",
   "version": "3.8.5"
  }
 },
 "nbformat": 4,
 "nbformat_minor": 4
}
